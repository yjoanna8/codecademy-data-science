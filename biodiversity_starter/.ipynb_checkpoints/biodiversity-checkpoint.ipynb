{
 "cells": [
  {
   "cell_type": "markdown",
   "metadata": {},
   "source": [
    "**Task**:\n",
    "\n",
    "For this project, you will interpret data from the National Parks Service about endangered species in different parks.\n",
    "\n",
    "You will perform some data analysis on the conservation statuses of these species and investigate if there are any patterns or themes to the types of species that become endangered. During this project, you will analyze, clean up, and plot data as well as pose questions and seek to answer them in a meaningful way.\n",
    "\n",
    "After you perform your analysis, you will share your findings about the National Park Service."
   ]
  },
  {
   "cell_type": "markdown",
   "metadata": {},
   "source": [
    "# Key Questions to Explore"
   ]
  },
  {
   "cell_type": "markdown",
   "metadata": {},
   "source": [
    "The main goal is to see if there are any patterns or themes to the types of species that become endangered. \n",
    "\n",
    "Phase 1: Observational Data\n",
    "* How does the spread of animals between the different national parks look like?\n",
    "* What is the distribution of endgangered species by category and by conservation status?\n",
    "* Which park has the most endangered species?\n",
    "* What are the different categories of species?\n",
    "* Proportion of animals in each conservation status\n",
    "\n",
    "Phase 2: Statistical Analysis and Questions\n",
    "* Do animals with the same genus typically have similar common names?\n",
    "    * If they do, does this contribute to their conservation status?\n",
    "* Do animals of the same genus have similar conservation status?\n",
    "* Does the number of observations signify the conservation status of the species?"
   ]
  },
  {
   "cell_type": "markdown",
   "metadata": {},
   "source": [
    "# 1. Importing Libraries"
   ]
  },
  {
   "cell_type": "code",
   "execution_count": 1,
   "metadata": {},
   "outputs": [],
   "source": [
    "# importing packages\n",
    "import pandas as pd\n",
    "import numpy as np\n",
    "import matplotlib.pyplot as plt\n",
    "from scipy import stats \n",
    "from statsmodels.stats.multicomp import pairwise_tukeyhsd\n",
    "import spacy\n",
    "import itertools"
   ]
  },
  {
   "cell_type": "markdown",
   "metadata": {},
   "source": [
    "# 2. Loading in the two different CSV files"
   ]
  },
  {
   "cell_type": "code",
   "execution_count": 2,
   "metadata": {},
   "outputs": [
    {
     "name": "stdout",
     "output_type": "stream",
     "text": [
      "            scientific_name                            park_name  observations\n",
      "0        Vicia benghalensis  Great Smoky Mountains National Park            68\n",
      "1            Neovison vison  Great Smoky Mountains National Park            77\n",
      "2         Prunus subcordata               Yosemite National Park           138\n",
      "3      Abutilon theophrasti                  Bryce National Park            84\n",
      "4  Githopsis specularioides  Great Smoky Mountains National Park            85\n",
      "scientific_name    object\n",
      "park_name          object\n",
      "observations        int64\n",
      "dtype: object\n",
      "(23296, 3)\n",
      "------\n",
      "  category                scientific_name  \\\n",
      "0   Mammal  Clethrionomys gapperi gapperi   \n",
      "1   Mammal                      Bos bison   \n",
      "2   Mammal                     Bos taurus   \n",
      "3   Mammal                     Ovis aries   \n",
      "4   Mammal                 Cervus elaphus   \n",
      "\n",
      "                                        common_names conservation_status  \n",
      "0                           Gapper's Red-Backed Vole                 NaN  \n",
      "1                              American Bison, Bison                 NaN  \n",
      "2  Aurochs, Aurochs, Domestic Cattle (Feral), Dom...                 NaN  \n",
      "3  Domestic Sheep, Mouflon, Red Sheep, Sheep (Feral)                 NaN  \n",
      "4                                      Wapiti Or Elk                 NaN  \n",
      "category               object\n",
      "scientific_name        object\n",
      "common_names           object\n",
      "conservation_status    object\n",
      "dtype: object\n",
      "(5824, 4)\n"
     ]
    }
   ],
   "source": [
    "# loading the two csv files\n",
    "observations = pd.read_csv('observations.csv')\n",
    "print(observations.head())\n",
    "print(observations.dtypes)\n",
    "print(observations.shape)\n",
    "print('------') # used to separate the two files so it is easier to differentiate the two on this platform\n",
    "species_info = pd.read_csv('species_info.csv')\n",
    "print(species_info.head())\n",
    "print(species_info.dtypes)\n",
    "print(species_info.shape)"
   ]
  },
  {
   "cell_type": "markdown",
   "metadata": {},
   "source": [
    "# **3. Data cleaning**:\n",
    "1. Duplicate values\n",
    "2. Null values \n",
    "3. Capitalization of words\n",
    "4. Data types\n",
    "5. Check for unique values"
   ]
  },
  {
   "cell_type": "markdown",
   "metadata": {},
   "source": [
    "observation.csv"
   ]
  },
  {
   "cell_type": "code",
   "execution_count": 3,
   "metadata": {},
   "outputs": [
    {
     "name": "stdout",
     "output_type": "stream",
     "text": [
      "scientific_name    0\n",
      "park_name          0\n",
      "observations       0\n",
      "dtype: int64\n",
      "scientific_name    5541\n",
      "park_name             4\n",
      "observations        304\n",
      "dtype: int64\n"
     ]
    }
   ],
   "source": [
    "# checking for null values in data frame\n",
    "print(observations.isna().sum())\n",
    "print(observations.nunique())\n",
    "# there are no null values present in this csv"
   ]
  },
  {
   "cell_type": "code",
   "execution_count": 4,
   "metadata": {},
   "outputs": [
    {
     "name": "stdout",
     "output_type": "stream",
     "text": [
      "17755\n",
      "                               scientific_name  \\\n",
      "44                         Elaeagnus umbellata   \n",
      "166                   Viola blanda var. blanda   \n",
      "211                         Penstemon procerus   \n",
      "221                 Chasmanthium sessiliflorum   \n",
      "238                       Doellingeria infirma   \n",
      "...                                        ...   \n",
      "23291                     Croton monanthogynus   \n",
      "23292                 Otospermophilus beecheyi   \n",
      "23293  Heterotheca sessiliflora ssp. echioides   \n",
      "23294                     Dicranella rufescens   \n",
      "23295                           Cucurbita pepo   \n",
      "\n",
      "                                 park_name  observations  \n",
      "44     Great Smoky Mountains National Park            85  \n",
      "166              Yellowstone National Park           245  \n",
      "211              Yellowstone National Park           215  \n",
      "221    Great Smoky Mountains National Park            70  \n",
      "238    Great Smoky Mountains National Park            68  \n",
      "...                                    ...           ...  \n",
      "23291               Yosemite National Park           173  \n",
      "23292                  Bryce National Park           130  \n",
      "23293                  Bryce National Park           140  \n",
      "23294               Yosemite National Park           171  \n",
      "23295               Yosemite National Park           164  \n",
      "\n",
      "[17755 rows x 3 columns]\n",
      "              scientific_name                            park_name  \\\n",
      "443    Echinochloa crus-galli               Yosemite National Park   \n",
      "802    Echinochloa crus-galli                  Bryce National Park   \n",
      "1454   Echinochloa crus-galli  Great Smoky Mountains National Park   \n",
      "7263   Echinochloa crus-galli  Great Smoky Mountains National Park   \n",
      "11435  Echinochloa crus-galli                  Bryce National Park   \n",
      "11688  Echinochloa crus-galli            Yellowstone National Park   \n",
      "17581  Echinochloa crus-galli            Yellowstone National Park   \n",
      "17639  Echinochloa crus-galli               Yosemite National Park   \n",
      "\n",
      "       observations  \n",
      "443             159  \n",
      "802             112  \n",
      "1454             62  \n",
      "7263             62  \n",
      "11435           116  \n",
      "11688           254  \n",
      "17581           235  \n",
      "17639           172  \n",
      "                               scientific_name  \\\n",
      "0                           Vicia benghalensis   \n",
      "1                               Neovison vison   \n",
      "2                            Prunus subcordata   \n",
      "3                         Abutilon theophrasti   \n",
      "4                     Githopsis specularioides   \n",
      "...                                        ...   \n",
      "22159                     Croton monanthogynus   \n",
      "22160                 Otospermophilus beecheyi   \n",
      "22161  Heterotheca sessiliflora ssp. echioides   \n",
      "22162                     Dicranella rufescens   \n",
      "22163                           Cucurbita pepo   \n",
      "\n",
      "                                 park_name  total_observations  \n",
      "0      Great Smoky Mountains National Park                  68  \n",
      "1      Great Smoky Mountains National Park                  77  \n",
      "2                   Yosemite National Park                 138  \n",
      "3                      Bryce National Park                  84  \n",
      "4      Great Smoky Mountains National Park                  85  \n",
      "...                                    ...                 ...  \n",
      "22159               Yosemite National Park                 173  \n",
      "22160                  Bryce National Park                 130  \n",
      "22161                  Bryce National Park                 140  \n",
      "22162               Yosemite National Park                 171  \n",
      "22163               Yosemite National Park                 164  \n",
      "\n",
      "[22164 rows x 3 columns]\n",
      "The numbers of rows in the new data frame is: 22164\n",
      "scientific_name                      park_name                          \n",
      "Abies bifolia                        Bryce National Park                    1\n",
      "                                     Great Smoky Mountains National Park    1\n",
      "                                     Yellowstone National Park              1\n",
      "                                     Yosemite National Park                 1\n",
      "Abies concolor                       Bryce National Park                    1\n",
      "                                                                           ..\n",
      "Zygodon viridissimus                 Yosemite National Park                 1\n",
      "Zygodon viridissimus var. rupestris  Bryce National Park                    1\n",
      "                                     Great Smoky Mountains National Park    1\n",
      "                                     Yellowstone National Park              1\n",
      "                                     Yosemite National Park                 1\n",
      "Length: 22164, dtype: int64\n"
     ]
    }
   ],
   "source": [
    "# checking for duplicate values in observations.csv\n",
    "print(observations.scientific_name.duplicated().sum()) # to check if there are duplicated rows in observations.csv\n",
    "print(observations.loc[observations.scientific_name.duplicated(), :]) # to locate and print out the duplicated rows in observations.csv\n",
    "print(observations.loc[observations.scientific_name == 'Echinochloa crus-galli']) # to look at one example of the duplicated rows\n",
    "# it appears as if there were multiple observations completed at one park and there were multiple sightings at different parks\n",
    "\n",
    "# group by column names and sum the observations\n",
    "observations['total_observations'] = observations.groupby(['scientific_name', 'park_name'])['observations'].transform('sum')\n",
    "\n",
    "# drops duplicates and the original observation column to create a new dataframe\n",
    "observations_duplicates_dropped = observations.drop_duplicates(subset=['scientific_name', 'park_name']).drop(['observations'], axis = 1).reset_index(drop=True)\n",
    "print(observations_duplicates_dropped)\n",
    "\n",
    "# check that all necessary duplicated rows are deleted\n",
    "print(\"The numbers of rows in the new data frame is: \" + str(len(observations_duplicates_dropped)))\n",
    "print(observations.groupby(['scientific_name', 'park_name']).size())"
   ]
  },
  {
   "cell_type": "code",
   "execution_count": 5,
   "metadata": {},
   "outputs": [],
   "source": [
    "# most recent dataframe is called observations_duplicates_dropped\n",
    "# capitalize the first letter of each word for columns scientific_name and park_name\n",
    "# observations_duplicates_dropped['scientific_name'] = observations_duplicates_dropped['scientific_name'].str.title()\n",
    "# observations_duplicates_dropped['park_name'] = observations_duplicates_dropped['park_name'].str.title()\n",
    "# this step of the cleaning is not necessary"
   ]
  },
  {
   "cell_type": "markdown",
   "metadata": {},
   "source": [
    "species_info.csv"
   ]
  },
  {
   "cell_type": "code",
   "execution_count": 6,
   "metadata": {},
   "outputs": [
    {
     "name": "stdout",
     "output_type": "stream",
     "text": [
      "category                  0\n",
      "scientific_name           0\n",
      "common_names              0\n",
      "conservation_status    5633\n",
      "dtype: int64\n",
      "category                  7\n",
      "scientific_name        5541\n",
      "common_names           5504\n",
      "conservation_status       4\n",
      "dtype: int64\n"
     ]
    }
   ],
   "source": [
    "# checking for null values in data frame\n",
    "print(species_info.isna().sum())\n",
    "print(species_info.nunique())\n",
    "# there are no null values present in this csv"
   ]
  },
  {
   "cell_type": "code",
   "execution_count": 7,
   "metadata": {},
   "outputs": [
    {
     "name": "stdout",
     "output_type": "stream",
     "text": [
      "283\n",
      "            category                   scientific_name  \\\n",
      "3017          Mammal                    Cervus elaphus   \n",
      "3019          Mammal            Odocoileus virginianus   \n",
      "3020          Mammal                       Canis lupus   \n",
      "3022          Mammal                     Puma concolor   \n",
      "3025          Mammal                  Lutra canadensis   \n",
      "...              ...                               ...   \n",
      "5619  Vascular Plant  Panicum rigidulum var. rigidulum   \n",
      "5638  Vascular Plant                    Setaria pumila   \n",
      "5640  Vascular Plant                  Vulpia bromoides   \n",
      "5643  Vascular Plant                     Vulpia myuros   \n",
      "5750  Vascular Plant                   Rosa eglanteria   \n",
      "\n",
      "                                           common_names conservation_status  \n",
      "3017                                 Rocky Mountain Elk                 NaN  \n",
      "3019               White-Tailed Deer, White-Tailed Deer                 NaN  \n",
      "3020                                    Gray Wolf, Wolf         In Recovery  \n",
      "3022                        Cougar, Mountain Lion, Puma                 NaN  \n",
      "3025                                        River Otter                 NaN  \n",
      "...                                                 ...                 ...  \n",
      "5619                  Redtop Panicgrass, Redtop Panicum                 NaN  \n",
      "5638  Cattail Grass, Yellow Bristle Grass, Yellow Br...                 NaN  \n",
      "5640  Brome Fescue, Brome Six-Weeks Grass, Desert Fe...                 NaN  \n",
      "5643  Foxtail Fescue, Rattail Fescue, Rat-Tail Fescu...                 NaN  \n",
      "5750                                    Sweetbriar Rose                 NaN  \n",
      "\n",
      "[283 rows x 4 columns]\n",
      "     category scientific_name        common_names conservation_status\n",
      "4      Mammal  Cervus elaphus       Wapiti Or Elk                 NaN\n",
      "3017   Mammal  Cervus elaphus  Rocky Mountain Elk                 NaN\n",
      "     scientific_name category conservation_status  \\\n",
      "1169  Cervus elaphus   Mammal     No Conservation   \n",
      "\n",
      "                           common_names  \n",
      "1169  Wapiti Or Elk, Rocky Mountain Elk  \n"
     ]
    }
   ],
   "source": [
    "# checking for duplicated values in species_info.csv\n",
    "print(species_info.scientific_name.duplicated().sum())\n",
    "print(species_info.loc[species_info.scientific_name.duplicated(), :])\n",
    "print(species_info.loc[species_info.scientific_name == 'Cervus elaphus'])\n",
    "# there are some duplicates with parentheses and filler words, however, for the purposes of my project, these values do not need to be cleaned\n",
    "# animals with the duplicated rows of common names will be combined\n",
    "species_info['conservation_status'] = species_info['conservation_status'].fillna('No Conservation')\n",
    "species_info_duplicates_dropped = species_info.groupby(['scientific_name', 'category', 'conservation_status'])['common_names'].apply(', '.join).reset_index()\n",
    "print(species_info_duplicates_dropped.loc[species_info_duplicates_dropped.scientific_name == 'Cervus elaphus'])"
   ]
  },
  {
   "cell_type": "code",
   "execution_count": 8,
   "metadata": {},
   "outputs": [
    {
     "name": "stdout",
     "output_type": "stream",
     "text": [
      "                  scientific_name                            park_name  \\\n",
      "0              Vicia benghalensis  Great Smoky Mountains National Park   \n",
      "1              Vicia benghalensis               Yosemite National Park   \n",
      "2              Vicia benghalensis            Yellowstone National Park   \n",
      "3              Vicia benghalensis                  Bryce National Park   \n",
      "4                  Neovison vison  Great Smoky Mountains National Park   \n",
      "...                           ...                                  ...   \n",
      "22167                   Gulo gulo               Yosemite National Park   \n",
      "22168  Dichanthelium depauperatum  Great Smoky Mountains National Park   \n",
      "22169  Dichanthelium depauperatum                  Bryce National Park   \n",
      "22170  Dichanthelium depauperatum            Yellowstone National Park   \n",
      "22171  Dichanthelium depauperatum               Yosemite National Park   \n",
      "\n",
      "       total_observations        category conservation_status  \\\n",
      "0                      68  Vascular Plant     No Conservation   \n",
      "1                     148  Vascular Plant     No Conservation   \n",
      "2                     247  Vascular Plant     No Conservation   \n",
      "3                     104  Vascular Plant     No Conservation   \n",
      "4                      77          Mammal     No Conservation   \n",
      "...                   ...             ...                 ...   \n",
      "22167                 157          Mammal     No Conservation   \n",
      "22168                  88  Vascular Plant     No Conservation   \n",
      "22169                  80  Vascular Plant     No Conservation   \n",
      "22170                 255  Vascular Plant     No Conservation   \n",
      "22171                 162  Vascular Plant     No Conservation   \n",
      "\n",
      "                             common_names  \n",
      "0      Purple Vetch, Reddish Tufted Vetch  \n",
      "1      Purple Vetch, Reddish Tufted Vetch  \n",
      "2      Purple Vetch, Reddish Tufted Vetch  \n",
      "3      Purple Vetch, Reddish Tufted Vetch  \n",
      "4                           American Mink  \n",
      "...                                   ...  \n",
      "22167                           Wolverine  \n",
      "22168      Green Panic-Grass, Panic Grass  \n",
      "22169      Green Panic-Grass, Panic Grass  \n",
      "22170      Green Panic-Grass, Panic Grass  \n",
      "22171      Green Panic-Grass, Panic Grass  \n",
      "\n",
      "[22172 rows x 6 columns]\n"
     ]
    }
   ],
   "source": [
    "# merging the two data frames\n",
    "final_data_set = pd.merge(observations_duplicates_dropped, species_info_duplicates_dropped, on=\"scientific_name\")\n",
    "print(final_data_set)"
   ]
  },
  {
   "cell_type": "markdown",
   "metadata": {},
   "source": [
    "# 4. Observational Graphs"
   ]
  },
  {
   "cell_type": "code",
   "execution_count": 9,
   "metadata": {
    "scrolled": true
   },
   "outputs": [
    {
     "name": "stdout",
     "output_type": "stream",
     "text": [
      "Great Smoky Mountains National Park    5543\n",
      "Yosemite National Park                 5543\n",
      "Yellowstone National Park              5543\n",
      "Bryce National Park                    5543\n",
      "Name: park_name, dtype: int64\n"
     ]
    }
   ],
   "source": [
    "# looking at the number of species per park \n",
    "print(final_data_set['park_name'].value_counts())\n",
    "#it appears that each park has the same number of species"
   ]
  },
  {
   "cell_type": "code",
   "execution_count": 10,
   "metadata": {},
   "outputs": [
    {
     "data": {
      "image/png": "[encoded data removed]",
      "text/plain": [
       "<Figure size 432x288 with 1 Axes>"
      ]
     },
     "metadata": {
      "needs_background": "light"
     },
     "output_type": "display_data"
    },
    {
     "data": {
      "text/plain": [
       "<Figure size 432x288 with 0 Axes>"
      ]
     },
     "metadata": {},
     "output_type": "display_data"
    }
   ],
   "source": [
    "# graphing the total number of observations per park\n",
    "total_observations_per_park = final_data_set.groupby('park_name')['total_observations'].sum()\n",
    "total_observations_per_park_sorted = total_observations_per_park.sort_values()\n",
    "plt.barh(total_observations_per_park_sorted.keys(), total_observations_per_park_sorted, color = ['salmon', 'lightgreen', 'cornflowerblue', 'darkgrey'])\n",
    "plt.title('Total Number of Observations Per Park')\n",
    "plt.xlabel('Total observations (in millions)')\n",
    "plt.ylabel('Park Name')\n",
    "plt.xticks(rotation=90)\n",
    "plt.show()\n",
    "plt.clf()"
   ]
  },
  {
   "cell_type": "code",
   "execution_count": 66,
   "metadata": {},
   "outputs": [
    {
     "data": {
      "image/png": "[encoded data removed]",
      "text/plain": [
       "<Figure size 432x288 with 1 Axes>"
      ]
     },
     "metadata": {
      "needs_background": "light"
     },
     "output_type": "display_data"
    },
    {
     "name": "stdout",
     "output_type": "stream",
     "text": [
      "22172\n",
      "Vascular Plant       17048\n",
      "Bird                  1952\n",
      "Nonvascular Plant     1332\n",
      "Mammal                 708\n",
      "Fish                   504\n",
      "Amphibian              316\n",
      "Reptile                312\n",
      "Name: category, dtype: int64\n"
     ]
    },
    {
     "data": {
      "text/plain": [
       "<Figure size 432x288 with 0 Axes>"
      ]
     },
     "metadata": {},
     "output_type": "display_data"
    }
   ],
   "source": [
    "# graphing the category of each species\n",
    "total_categories = final_data_set['category'].value_counts()\n",
    "total_categories_sorted = total_categories.sort_values(ascending=False)\n",
    "plt.bar(total_categories_sorted.keys(), total_categories_sorted)\n",
    "plt.xticks(rotation=90)\n",
    "plt.title('Total Number of Chordate Categories')\n",
    "plt.ylabel('Total species count')\n",
    "plt.xlabel('Chordate Category')\n",
    "plt.show()\n",
    "plt.clf()\n",
    "print(total_categories.sum())\n",
    "print(total_categories)"
   ]
  },
  {
   "cell_type": "code",
   "execution_count": 26,
   "metadata": {},
   "outputs": [
    {
     "data": {
      "image/png": "[encoded data removed]",
      "text/plain": [
       "<Figure size 432x288 with 1 Axes>"
      ]
     },
     "metadata": {
      "needs_background": "light"
     },
     "output_type": "display_data"
    },
    {
     "data": {
      "text/plain": [
       "<Figure size 432x288 with 0 Axes>"
      ]
     },
     "metadata": {},
     "output_type": "display_data"
    }
   ],
   "source": [
    "# graphing the total observations of each category of species per park\n",
    "total_categories_per_park = final_data_set.groupby(['category', 'park_name']).sum()['total_observations']\n",
    "category_labels = final_data_set['category'].unique()\n",
    "park_name_labels = final_data_set['park_name'].unique()\n",
    "fig, ax = plt.subplots()\n",
    "width = 0.3\n",
    "x = np.arange(len(category_labels)) * 2\n",
    "for ind, park_name in enumerate(park_name_labels):\n",
    "    ax.bar(x - 3*width/2 + ind*width, [total_categories_per_park[(category, park_name)] for category in category_labels], width, label = park_name)\n",
    "ax.set_ylabel('Total Observations')\n",
    "ax.set_title('Observations Per Park by Chordate Category')\n",
    "ax.set_xticks(x, category_labels, rotation=90)\n",
    "ax.set_xlabel('Chordate Category')\n",
    "ax.legend()\n",
    "plt.show()\n",
    "plt.clf()"
   ]
  },
  {
   "cell_type": "code",
   "execution_count": 13,
   "metadata": {},
   "outputs": [
    {
     "name": "stdout",
     "output_type": "stream",
     "text": [
      "No Conservation       5363\n",
      "Species of Concern     151\n",
      "Endangered              15\n",
      "Threatened              10\n",
      "In Recovery              4\n",
      "Name: conservation_status, dtype: int64\n",
      "No Conservation       96.752661\n",
      "Species of Concern     2.724157\n",
      "Endangered             0.270612\n",
      "Threatened             0.180408\n",
      "In Recovery            0.072163\n",
      "Name: conservation_status, dtype: float64\n"
     ]
    },
    {
     "data": {
      "image/png": "[encoded data removed]",
      "text/plain": [
       "<Figure size 432x288 with 1 Axes>"
      ]
     },
     "metadata": {
      "needs_background": "light"
     },
     "output_type": "display_data"
    },
    {
     "name": "stdout",
     "output_type": "stream",
     "text": [
      "No Conservation       5363\n",
      "Species of Concern     151\n",
      "Endangered              15\n",
      "Threatened              10\n",
      "In Recovery              4\n",
      "Name: conservation_status, dtype: int64\n"
     ]
    },
    {
     "data": {
      "image/png": "[encoded data removed]",
      "text/plain": [
       "<Figure size 432x288 with 1 Axes>"
      ]
     },
     "metadata": {
      "needs_background": "light"
     },
     "output_type": "display_data"
    },
    {
     "data": {
      "text/plain": [
       "<Figure size 432x288 with 0 Axes>"
      ]
     },
     "metadata": {},
     "output_type": "display_data"
    }
   ],
   "source": [
    "# distribution of endangered species\n",
    "print(species_info_duplicates_dropped['conservation_status'].value_counts())\n",
    "print(species_info_duplicates_dropped['conservation_status'].value_counts().div(len(species_info_duplicates_dropped['conservation_status']))*100)\n",
    "plt.barh(species_info_duplicates_dropped['conservation_status'].unique(), np.log10(species_info_duplicates_dropped['conservation_status'].value_counts()))\n",
    "plt.title('Number of Species in Each Conservation Category')\n",
    "plt.xlabel('Number of Species (Log 10)')\n",
    "plt.ylabel('Conservation Category')\n",
    "plt.show()\n",
    "plt.clf()\n",
    "# distribution of endangered species by percentage\n",
    "print(species_info_duplicates_dropped['conservation_status'].value_counts())\n",
    "plt.barh(species_info_duplicates_dropped['conservation_status'].unique(), \n",
    "         species_info_duplicates_dropped['conservation_status'].value_counts().div(len(species_info_duplicates_dropped['conservation_status']))*100)\n",
    "plt.title('Number of Species in Each Conservation Category (Percentage)')\n",
    "plt.xlabel('Number of Species Percentage')\n",
    "plt.ylabel('Conservation Category')\n",
    "plt.show()\n",
    "plt.clf()"
   ]
  },
  {
   "cell_type": "code",
   "execution_count": 67,
   "metadata": {},
   "outputs": [
    {
     "name": "stdout",
     "output_type": "stream",
     "text": [
      "category           conservation_status\n",
      "Amphibian          Endangered                1\n",
      "                   No Conservation          72\n",
      "                   Species of Concern        4\n",
      "                   Threatened                2\n",
      "Bird               Endangered                4\n",
      "                   In Recovery               3\n",
      "                   No Conservation         413\n",
      "                   Species of Concern       68\n",
      "Fish               Endangered                3\n",
      "                   No Conservation         115\n",
      "                   Species of Concern        4\n",
      "                   Threatened                4\n",
      "Mammal             Endangered                6\n",
      "                   In Recovery               1\n",
      "                   No Conservation         146\n",
      "                   Species of Concern       22\n",
      "                   Threatened                2\n",
      "Nonvascular Plant  No Conservation         328\n",
      "                   Species of Concern        5\n",
      "Reptile            No Conservation          73\n",
      "                   Species of Concern        5\n",
      "Vascular Plant     Endangered                1\n",
      "                   No Conservation        4216\n",
      "                   Species of Concern       43\n",
      "                   Threatened                2\n",
      "Name: scientific_name, dtype: int64\n"
     ]
    },
    {
     "name": "stderr",
     "output_type": "stream",
     "text": [
      "C:\\Users\\yjoan\\AppData\\Local\\Temp\\ipykernel_16908\\1131503893.py:13: RuntimeWarning: divide by zero encountered in log10\n",
      "  np.log10(data_values),\n"
     ]
    },
    {
     "data": {
      "image/png": "[encoded data removed]",
      "text/plain": [
       "<Figure size 432x288 with 1 Axes>"
      ]
     },
     "metadata": {
      "needs_background": "light"
     },
     "output_type": "display_data"
    },
    {
     "data": {
      "text/plain": [
       "<Figure size 432x288 with 0 Axes>"
      ]
     },
     "metadata": {},
     "output_type": "display_data"
    }
   ],
   "source": [
    "# distribution of endangered species by category\n",
    "total_categories_conservation_status = species_info_duplicates_dropped.groupby(['category', 'conservation_status']).count()['scientific_name']\n",
    "print(total_categories_conservation_status)\n",
    "category_labels = species_info_duplicates_dropped['category'].unique()\n",
    "conservation_status_labels = species_info_duplicates_dropped['conservation_status'].unique()\n",
    "\n",
    "fig, ax = plt.subplots()\n",
    "width = 0.3\n",
    "x = np.arange(len(category_labels)) * 2\n",
    "for ind, conservation in enumerate(conservation_status_labels):\n",
    "    data_values = [(total_categories_conservation_status[(category, conservation)] if (category, conservation) in total_categories_conservation_status else 0) for category in category_labels]\n",
    "    ax.bar(x - 3*width/2 + ind*width, \n",
    "           np.log10(data_values), \n",
    "           width, \n",
    "           label = conservation)\n",
    "ax.set_ylabel('Total Number of Species (log10)')\n",
    "ax.set_title('Species in Each Conservation Status by Chordate Category')\n",
    "ax.set_xticks(x, category_labels, rotation=90)\n",
    "ax.legend()\n",
    "plt.show()\n",
    "plt.clf()"
   ]
  },
  {
   "cell_type": "code",
   "execution_count": 15,
   "metadata": {},
   "outputs": [
    {
     "data": {
      "text/plain": [
       "conservation_status  park_name                          \n",
       "Endangered           Bryce National Park                      15\n",
       "                     Great Smoky Mountains National Park      15\n",
       "                     Yellowstone National Park                15\n",
       "                     Yosemite National Park                   15\n",
       "In Recovery          Bryce National Park                       4\n",
       "                     Great Smoky Mountains National Park       4\n",
       "                     Yellowstone National Park                 4\n",
       "                     Yosemite National Park                    4\n",
       "No Conservation      Bryce National Park                    5363\n",
       "                     Great Smoky Mountains National Park    5363\n",
       "                     Yellowstone National Park              5363\n",
       "                     Yosemite National Park                 5363\n",
       "Species of Concern   Bryce National Park                     151\n",
       "                     Great Smoky Mountains National Park     151\n",
       "                     Yellowstone National Park               151\n",
       "                     Yosemite National Park                  151\n",
       "Threatened           Bryce National Park                      10\n",
       "                     Great Smoky Mountains National Park      10\n",
       "                     Yellowstone National Park                10\n",
       "                     Yosemite National Park                   10\n",
       "Name: total_observations, dtype: int64"
      ]
     },
     "execution_count": 15,
     "metadata": {},
     "output_type": "execute_result"
    }
   ],
   "source": [
    "# number of each endangered species by park\n",
    "total_endangered_species_per_park = final_data_set.groupby(['conservation_status', 'park_name']).count()['total_observations']\n",
    "total_endangered_species_per_park"
   ]
  },
  {
   "cell_type": "code",
   "execution_count": 62,
   "metadata": {},
   "outputs": [
    {
     "name": "stdout",
     "output_type": "stream",
     "text": [
      "conservation_status\n",
      "Endangered             46.633333\n",
      "In Recovery           131.687500\n",
      "No Conservation       150.356330\n",
      "Species of Concern    136.720199\n",
      "Threatened             83.475000\n",
      "Name: total_observations, dtype: float64\n"
     ]
    }
   ],
   "source": [
    "no_conservation_total_observations = final_data_set.loc[final_data_set['conservation_status'] == 'No Conservation'].total_observations\n",
    "threatened_total_observations = final_data_set.loc[final_data_set['conservation_status'] == 'Threatened'].total_observations\n",
    "endangered_total_observations = final_data_set.loc[final_data_set['conservation_status'] == 'Endangered'].total_observations\n",
    "in_recovery_total_observations = final_data_set.loc[final_data_set['conservation_status'] == 'In Recovery'].total_observations\n",
    "species_of_concern_total_observations = final_data_set.loc[final_data_set['conservation_status'] == 'Species of Concern'].total_observations\n",
    "\n",
    "print(final_data_set.groupby('conservation_status')['total_observations'].mean())"
   ]
  },
  {
   "cell_type": "code",
   "execution_count": 57,
   "metadata": {
    "scrolled": false
   },
   "outputs": [
    {
     "name": "stdout",
     "output_type": "stream",
     "text": [
      "2.2520671878084815e-29\n",
      "              Multiple Comparison of Means - Tukey HSD, FWER=0.05              \n",
      "===============================================================================\n",
      "      group1             group2       meandiff p-adj    lower    upper   reject\n",
      "-------------------------------------------------------------------------------\n",
      "        Endangered        In Recovery  85.0542 0.0018   22.7409 147.3674   True\n",
      "        Endangered    No Conservation  103.723   -0.0   75.0918 132.3542   True\n",
      "        Endangered Species of Concern  90.0869   -0.0   60.1091 120.0646   True\n",
      "        Endangered         Threatened  36.8417 0.1711   -8.3651  82.0485  False\n",
      "       In Recovery    No Conservation  18.6688 0.8895  -36.7186  74.0563  False\n",
      "       In Recovery Species of Concern   5.0327 0.9992  -51.0626   61.128  False\n",
      "       In Recovery         Threatened -48.2125 0.2622 -113.7234  17.2984  False\n",
      "   No Conservation Species of Concern -13.6361 0.0005  -22.7735  -4.4988   True\n",
      "   No Conservation         Threatened -66.8813    0.0  -101.931 -31.8317   True\n",
      "Species of Concern         Threatened -53.2452 0.0006  -89.4031 -17.0873   True\n",
      "-------------------------------------------------------------------------------\n"
     ]
    }
   ],
   "source": [
    "fstat, pval = stats.f_oneway(no_conservation_total_observations, threatened_total_observations, endangered_total_observations, in_recovery_total_observations, species_of_concern_total_observations)\n",
    "print(pval)\n",
    "results = pairwise_tukeyhsd(final_data_set.total_observations, final_data_set.conservation_status, alpha = 0.05)\n",
    "print(results)"
   ]
  },
  {
   "cell_type": "code",
   "execution_count": 16,
   "metadata": {},
   "outputs": [],
   "source": [
    "# obtain all the genus names\n",
    "species_info_duplicates_dropped['genus_names'] = ''\n",
    "for index, name in enumerate(species_info_duplicates_dropped['scientific_name']):\n",
    "    species_info_duplicates_dropped['genus_names'][index] = name.split(' ')[0]"
   ]
  },
  {
   "cell_type": "code",
   "execution_count": 73,
   "metadata": {},
   "outputs": [
    {
     "data": {
      "text/plain": [
       "1595"
      ]
     },
     "execution_count": 73,
     "metadata": {},
     "output_type": "execute_result"
    }
   ],
   "source": [
    "# number of species per genus\n",
    "number_species_per_genus = species_info_duplicates_dropped.groupby('genus_names').count()['scientific_name'].to_dict()\n",
    "# there are 1595 different genuses\n",
    "len(number_species_per_genus)"
   ]
  },
  {
   "cell_type": "code",
   "execution_count": 99,
   "metadata": {},
   "outputs": [
    {
     "name": "stdout",
     "output_type": "stream",
     "text": [
      "9.373105086847693e-243\n"
     ]
    },
    {
     "ename": "KeyError",
     "evalue": "False",
     "output_type": "error",
     "traceback": [
      "\u001b[1;31m---------------------------------------------------------------------------\u001b[0m",
      "\u001b[1;31mKeyError\u001b[0m                                  Traceback (most recent call last)",
      "File \u001b[1;32mC:\\ProgramData\\Anaconda3\\lib\\site-packages\\pandas\\core\\indexes\\base.py:3621\u001b[0m, in \u001b[0;36mIndex.get_loc\u001b[1;34m(self, key, method, tolerance)\u001b[0m\n\u001b[0;32m   3620\u001b[0m \u001b[38;5;28;01mtry\u001b[39;00m:\n\u001b[1;32m-> 3621\u001b[0m     \u001b[38;5;28;01mreturn\u001b[39;00m \u001b[38;5;28;43mself\u001b[39;49m\u001b[38;5;241;43m.\u001b[39;49m\u001b[43m_engine\u001b[49m\u001b[38;5;241;43m.\u001b[39;49m\u001b[43mget_loc\u001b[49m\u001b[43m(\u001b[49m\u001b[43mcasted_key\u001b[49m\u001b[43m)\u001b[49m\n\u001b[0;32m   3622\u001b[0m \u001b[38;5;28;01mexcept\u001b[39;00m \u001b[38;5;167;01mKeyError\u001b[39;00m \u001b[38;5;28;01mas\u001b[39;00m err:\n",
      "File \u001b[1;32mC:\\ProgramData\\Anaconda3\\lib\\site-packages\\pandas\\_libs\\index.pyx:136\u001b[0m, in \u001b[0;36mpandas._libs.index.IndexEngine.get_loc\u001b[1;34m()\u001b[0m\n",
      "File \u001b[1;32mC:\\ProgramData\\Anaconda3\\lib\\site-packages\\pandas\\_libs\\index.pyx:163\u001b[0m, in \u001b[0;36mpandas._libs.index.IndexEngine.get_loc\u001b[1;34m()\u001b[0m\n",
      "File \u001b[1;32mpandas\\_libs\\hashtable_class_helper.pxi:5198\u001b[0m, in \u001b[0;36mpandas._libs.hashtable.PyObjectHashTable.get_item\u001b[1;34m()\u001b[0m\n",
      "File \u001b[1;32mpandas\\_libs\\hashtable_class_helper.pxi:5206\u001b[0m, in \u001b[0;36mpandas._libs.hashtable.PyObjectHashTable.get_item\u001b[1;34m()\u001b[0m\n",
      "\u001b[1;31mKeyError\u001b[0m: False",
      "\nThe above exception was the direct cause of the following exception:\n",
      "\u001b[1;31mKeyError\u001b[0m                                  Traceback (most recent call last)",
      "Input \u001b[1;32mIn [99]\u001b[0m, in \u001b[0;36m<cell line: 14>\u001b[1;34m()\u001b[0m\n\u001b[0;32m     12\u001b[0m \u001b[38;5;28mprint\u001b[39m(pval)\n\u001b[0;32m     13\u001b[0m \u001b[38;5;66;03m# it appears that genus plays a role in determining conservation status as most genus have the same conservation class even when the number of species within it is greater than 1\u001b[39;00m\n\u001b[1;32m---> 14\u001b[0m \u001b[38;5;28mprint\u001b[39m(\u001b[43mspecies_info_numerous_species_per_genus\u001b[49m\u001b[43m[\u001b[49m\u001b[38;5;124;43m'\u001b[39;49m\u001b[38;5;124;43mgenus\u001b[39;49m\u001b[38;5;124;43m'\u001b[39;49m\u001b[43m \u001b[49m\u001b[38;5;241;43m==\u001b[39;49m\u001b[43m \u001b[49m\u001b[38;5;124;43m'\u001b[39;49m\u001b[38;5;124;43mCampanulastrum\u001b[39;49m\u001b[38;5;124;43m'\u001b[39;49m\u001b[43m]\u001b[49m)\n",
      "File \u001b[1;32mC:\\ProgramData\\Anaconda3\\lib\\site-packages\\pandas\\core\\frame.py:3505\u001b[0m, in \u001b[0;36mDataFrame.__getitem__\u001b[1;34m(self, key)\u001b[0m\n\u001b[0;32m   3503\u001b[0m \u001b[38;5;28;01mif\u001b[39;00m \u001b[38;5;28mself\u001b[39m\u001b[38;5;241m.\u001b[39mcolumns\u001b[38;5;241m.\u001b[39mnlevels \u001b[38;5;241m>\u001b[39m \u001b[38;5;241m1\u001b[39m:\n\u001b[0;32m   3504\u001b[0m     \u001b[38;5;28;01mreturn\u001b[39;00m \u001b[38;5;28mself\u001b[39m\u001b[38;5;241m.\u001b[39m_getitem_multilevel(key)\n\u001b[1;32m-> 3505\u001b[0m indexer \u001b[38;5;241m=\u001b[39m \u001b[38;5;28;43mself\u001b[39;49m\u001b[38;5;241;43m.\u001b[39;49m\u001b[43mcolumns\u001b[49m\u001b[38;5;241;43m.\u001b[39;49m\u001b[43mget_loc\u001b[49m\u001b[43m(\u001b[49m\u001b[43mkey\u001b[49m\u001b[43m)\u001b[49m\n\u001b[0;32m   3506\u001b[0m \u001b[38;5;28;01mif\u001b[39;00m is_integer(indexer):\n\u001b[0;32m   3507\u001b[0m     indexer \u001b[38;5;241m=\u001b[39m [indexer]\n",
      "File \u001b[1;32mC:\\ProgramData\\Anaconda3\\lib\\site-packages\\pandas\\core\\indexes\\base.py:3623\u001b[0m, in \u001b[0;36mIndex.get_loc\u001b[1;34m(self, key, method, tolerance)\u001b[0m\n\u001b[0;32m   3621\u001b[0m     \u001b[38;5;28;01mreturn\u001b[39;00m \u001b[38;5;28mself\u001b[39m\u001b[38;5;241m.\u001b[39m_engine\u001b[38;5;241m.\u001b[39mget_loc(casted_key)\n\u001b[0;32m   3622\u001b[0m \u001b[38;5;28;01mexcept\u001b[39;00m \u001b[38;5;167;01mKeyError\u001b[39;00m \u001b[38;5;28;01mas\u001b[39;00m err:\n\u001b[1;32m-> 3623\u001b[0m     \u001b[38;5;28;01mraise\u001b[39;00m \u001b[38;5;167;01mKeyError\u001b[39;00m(key) \u001b[38;5;28;01mfrom\u001b[39;00m \u001b[38;5;21;01merr\u001b[39;00m\n\u001b[0;32m   3624\u001b[0m \u001b[38;5;28;01mexcept\u001b[39;00m \u001b[38;5;167;01mTypeError\u001b[39;00m:\n\u001b[0;32m   3625\u001b[0m     \u001b[38;5;66;03m# If we have a listlike key, _check_indexing_error will raise\u001b[39;00m\n\u001b[0;32m   3626\u001b[0m     \u001b[38;5;66;03m#  InvalidIndexError. Otherwise we fall through and re-raise\u001b[39;00m\n\u001b[0;32m   3627\u001b[0m     \u001b[38;5;66;03m#  the TypeError.\u001b[39;00m\n\u001b[0;32m   3628\u001b[0m     \u001b[38;5;28mself\u001b[39m\u001b[38;5;241m.\u001b[39m_check_indexing_error(key)\n",
      "\u001b[1;31mKeyError\u001b[0m: False"
     ]
    }
   ],
   "source": [
    "# genus that have more than 2 species, I want to look at if genus has an affect on their conservation status\n",
    "number_species_per_genus_numerous = [name for name in number_species_per_genus.keys() if number_species_per_genus[name] > 1]\n",
    "species_info_numerous_species_per_genus = species_info_duplicates_dropped[\n",
    "    species_info_duplicates_dropped['genus_names'].apply(lambda row: any(genus in row for genus in number_species_per_genus_numerous))\n",
    "].reset_index(drop = True)\n",
    "genus_conservation_status_numerous = species_info_numerous_species_per_genus.groupby('genus_names')['conservation_status'].nunique()\n",
    "genus_conservation_status_numerous_more = (genus_conservation_status_numerous > 1).sum()/len(species_info_numerous_species_per_genus.groupby('genus_names'))\n",
    "genus_conservation_status_numerous_less = (genus_conservation_status_numerous == 1).sum()/len(species_info_numerous_species_per_genus.groupby('genus_names'))\n",
    "# hypothesis: genus plays a role in determining conservation status\n",
    "# null hypothesis: genus plays no role in determining conservation status\n",
    "pval = stats.binom_test(genus_conservation_status_numerous_more, n = 805, p = 0.5)\n",
    "print(pval)\n",
    "# it appears that genus plays a role in determining conservation status as most genus have the same conservation class even when the number of species within it is greater than 1\n",
    "print(species_info_numerous_species_per_genus['genus' == 'Campanulastrum'])"
   ]
  },
  {
   "cell_type": "code",
   "execution_count": 72,
   "metadata": {},
   "outputs": [
    {
     "name": "stdout",
     "output_type": "stream",
     "text": [
      "803\n"
     ]
    }
   ],
   "source": [
    "print(len(number_species_per_genus_numerous))"
   ]
  },
  {
   "cell_type": "code",
   "execution_count": 19,
   "metadata": {},
   "outputs": [
    {
     "name": "stdout",
     "output_type": "stream",
     "text": [
      "4.637842521661461e-42\n",
      "               Multiple Comparison of Means - Tukey HSD, FWER=0.05               \n",
      "=================================================================================\n",
      "      group1             group2        meandiff p-adj    lower     upper   reject\n",
      "---------------------------------------------------------------------------------\n",
      "        Endangered        In Recovery  340.2167 0.0001  132.5999  547.8334   True\n",
      "        Endangered    No Conservation   414.892    0.0  319.4978  510.2862   True\n",
      "        Endangered Species of Concern  360.3475    0.0  260.4669   460.228   True\n",
      "        Endangered         Threatened  147.3667 0.0587   -3.2543  297.9877  False\n",
      "       In Recovery    No Conservation   74.6753 0.8044 -109.8658  259.2164  False\n",
      "       In Recovery Species of Concern   20.1308 0.9984 -166.7689  207.0305  False\n",
      "       In Recovery         Threatened   -192.85 0.1125 -411.1206   25.4206  False\n",
      "   No Conservation Species of Concern  -54.5445    0.0  -84.9886  -24.1005   True\n",
      "   No Conservation         Threatened -267.5253    0.0 -384.3046 -150.7461   True\n",
      "Species of Concern         Threatened -212.9808    0.0 -333.4527  -92.5089   True\n",
      "---------------------------------------------------------------------------------\n"
     ]
    }
   ],
   "source": [
    "# null hypothesis: number of total observations does not influence conservation status\n",
    "# hypothesis: number of total observations does influence conservation status'\n",
    "species_conservation_observations = final_data_set.groupby(['scientific_name', 'conservation_status'])['total_observations'].sum()\n",
    "species_conservation_observations_key = [conservation for species, conservation in species_conservation_observations.keys()]\n",
    "conservation_status_dict = {}\n",
    "for conservation_type in final_data_set['conservation_status'].unique():\n",
    "    conservation_status_dict[conservation_type] = species_conservation_observations.filter(like = conservation_type).tolist()\n",
    "fstat, pval = stats.f_oneway(*conservation_status_dict.values())\n",
    "print(pval)\n",
    "results = pairwise_tukeyhsd(species_conservation_observations.values,species_conservation_observations_key , alpha = 0.05)\n",
    "print(results)"
   ]
  },
  {
   "cell_type": "code",
   "execution_count": 100,
   "metadata": {
    "scrolled": false
   },
   "outputs": [
    {
     "name": "stderr",
     "output_type": "stream",
     "text": [
      "C:\\Users\\yjoan\\AppData\\Local\\Temp\\ipykernel_16908\\3099773684.py:12: UserWarning: [W008] Evaluating Doc.similarity based on empty vectors.\n",
      "  subset_similarity_values.append(doc1.similarity(doc2))\n"
     ]
    }
   ],
   "source": [
    "# similar words using spacy but only taking the genus with more than one species\n",
    "nlp = spacy.load('en_core_web_lg')\n",
    "similarity_values = {}\n",
    "for name in number_species_per_genus_numerous:\n",
    "    strings = species_info_numerous_species_per_genus.loc[species_info_numerous_species_per_genus['genus_names'] == name]['common_names']\n",
    "    combinations = list(itertools.combinations(strings, 2))\n",
    "    subset_similarity_values = []\n",
    "    if len(combinations) != 0:\n",
    "        for ind in range(len(combinations)):\n",
    "            doc1 = nlp(combinations[ind][0])\n",
    "            doc2 = nlp(combinations[ind][1])\n",
    "            subset_similarity_values.append(doc1.similarity(doc2))\n",
    "        similarity_values[name] = np.mean(subset_similarity_values)"
   ]
  },
  {
   "cell_type": "code",
   "execution_count": 102,
   "metadata": {},
   "outputs": [
    {
     "name": "stdout",
     "output_type": "stream",
     "text": [
      "{'Abies': 0.5793932679549976, 'Acalypha': 0.6411333433210776, 'Accipiter': 0.26841022196979303, 'Acer': 0.566412054294134, 'Achillea': 0.2939173172064585, 'Achnatherum': 0.42231795137960815, 'Aconitum': 0.6244247417918838, 'Actaea': 0.49533848908099615, 'Actitis': 1.0, 'Adiantum': 0.7322804642886721, 'Aechmophorus': 0.24617000042258277, 'Aegolius': 0.5766580165797272, 'Aesculus': 0.5411497490147853, 'Agalinis': 0.8653011114604384, 'Agastache': 0.938544364888377, 'Ageratina': 0.5468218944428258, 'Agoseris': 0.3255098575970046, 'Agrimonia': 0.5331139987810416, 'Agrostis': 0.5018971534100798, 'Aimophila': 0.2205995368896383, 'Alces': 0.7030182927641014, 'Alisma': 0.7730316036415242, 'Allium': 0.625524503808477, 'Allophyllum': 0.7474273092790944, 'Alnus': 0.8078315228370995, 'Alopecurus': 0.6204674657191677, 'Alyssum': 0.7287297427512349, 'Amaranthus': 0.8192404288348598, 'Amblystegium': 1.0, 'Ambrosia': 0.6346461004762515, 'Ambystoma': 0.6985309795633867, 'Ameiurus': 0.7173409465068061, 'Amelanchier': 0.47420405633995066, 'Ammodramus': 0.38255131707513135, 'Amorpha': 0.41111279997842387, 'Ampelopsis': 0.0, 'Amsinckia': 0.6676372620655822, 'Anagallis': 0.0, 'Anas': 0.3468644084204165, 'Anastrophyllum': 0.3268870324678137, 'Anaxyrus': 0.47882362693002145, 'Andreaea': 0.512467563499371, 'Andropogon': 0.4418150345005691, 'Androsace': 0.2512924696571615, 'Anemone': 0.32652626716098204, 'Angelica': 0.5587338712048048, 'Anomodon': 0.7706222977511611, 'Antennaria': 0.308789344887091, 'Anthemis': 0.4539469812376689, 'Anthus': 0.6948760635627782, 'Apocynum': 0.5601358481235251, 'Aquilegia': 0.5899396554964915, 'Arabis': 0.22445231661510293, 'Aralia': 0.4467801347509348, 'Arceuthobium': 0.7913017801843457, 'Archilochus': 0.8757610750313753, 'Arctium': 0.9189756484089111, 'Arctostaphylos': 0.5677221682475232, 'Ardea': 0.8275325922725871, 'Arenaria': 0.29325454271299317, 'Arisaema': 0.4888391967891237, 'Aristida': 0.13119728079976323, 'Aristolochia': 0.24473636114243927, 'Arnica': 0.5540754375132697, 'Arnoglossum': 0.8369548913943804, 'Aronia': 0.503178914600709, 'Arrhenatherum': 1.0, 'Artemisia': 0.43135317401848283, 'Artemisiospiza': 0.7582452502081178, 'Asarum': 0.36059717498464333, 'Asclepias': 0.5714499068869139, 'Asio': 0.9411801279544992, 'Aspidotis': 0.400550662406209, 'Asplenium': 0.30615797434465264, 'Aster': 0.5173183345507995, 'Astragalus': 0.31712516091848303, 'Athyrium': 0.3551421400211397, 'Atrichum': 0.7750435544020478, 'Atriplex': 0.6939785579869643, 'Aulacomnium': 1.0, 'Aureolaria': 0.6458896373742388, 'Avena': 0.8582490275450049, 'Aythya': 0.247192791028454, 'Baeolophus': 0.4972323460162786, 'Balsamorhiza': 0.06532194758094627, 'Barbarea': 0.7631980807931761, 'Barbula': 0.9004362304583674, 'Bartonia': 0.7275987758151929, 'Bartramia': 0.44125203333755697, 'Batrachoseps': 0.7137817228780027, 'Bazzania': 0.9999999959977853, 'Berberis': 0.6764001587959974, 'Betula': 0.5602296580003328, 'Bidens': 0.5260677987300993, 'Bombycilla': 0.46961859061377664, 'Bos': 0.727199277331325, 'Botrychium': 0.4886952941968424, 'Boykinia': 0.08380150733933465, 'Brachyelytrum': 0.4016464340805645, 'Brachythecium': 1.0000000073708164, 'Branta': 0.5804686743577405, 'Brassica': 0.42642858971857106, 'Brickellia': 0.2880963598000275, 'Bromus': 0.5169036398185043, 'Bryhnia': 0.4408652484592074, 'Bryohaplocladium': 0.7345311978593135, 'Bryum': 0.9078321954148375, 'Bubo': 0.7788666199215133, 'Bucephala': 0.25628885742121715, 'Bufo': 0.5488476073213566, 'Bupleurum': 0.2670662739221215, 'Buteo': 0.6312569539567167, 'Cacalia': 0.9156707726118163, 'Calamagrostis': 0.29814935808236925, 'Calcarius': 0.11805135102933396, 'Calidris': 0.4011357713531603, 'Callitriche': 0.7351496767144182, 'Calochortus': 0.5787517546132197, 'Calycadenia': 0.4697030585171636, 'Calycanthus': 0.34857193078895204, 'Calypogeja': 0.2505567812120698, 'Calystegia': 0.3598679206650401, 'Camassia': 0.7935680000393619, 'Camelina': 0.39821237839256357, 'Camissonia': 0.4363607471158671, 'Campanula': 0.5858771373960601, 'Campostoma': 0.0, 'Campylium': 1.0000000247225358, 'Campylopus': 1.000000010959791, 'Canis': 0.5766400432245816, 'Caprimulgus': 0.913955884343838, 'Capsella': 0.7540051151825073, 'Cardamine': 0.3216537607373625, 'Cardaria': 0.9367399738618211, 'Carduelis': 0.24743720356835028, 'Carduus': 0.48057929731927923, 'Carex': 0.5599956302384758, 'Carphophis': 0.6683376272480427, 'Carpodacus': 0.3367371351187411, 'Carya': 0.6284791516954071, 'Castanea': 0.4367400318881647, 'Castilleja': 0.7420106980076404, 'Catalpa': 0.9314690692603131, 'Catharus': 0.1838312703335051, 'Catostomus': 0.5635696487065035, 'Ceanothus': 0.18400352972742262, 'Celastrus': 0.48103286743497664, 'Celtis': 0.40067890544148743, 'Centaurea': 0.44475735421334417, 'Cephalozia': 0.26666666666666666, 'Cerastium': 0.7689979381419515, 'Cercis': 0.500376264466428, 'Certhia': 0.11882921452530523, 'Ceryle': 0.8035417478930331, 'Chaenactis': 0.5589693789958886, 'Chaerophyllum': 0.26488936480254033, 'Chaetura': 0.39117859649536557, 'Chamaecrista': 0.6599346882880784, 'Chamaesyce': 0.5040896223542151, 'Charadrius': 0.5612059069570183, 'Chasmanthium': 0.4053711309535955, 'Cheilanthes': 0.4411540177500883, 'Chelone': 0.10201075583305928, 'Chen': 0.5902210938170737, 'Chenopodium': 0.370629936717144, 'Chimaphila': 0.6039540726605417, 'Chrysemys': 0.8994912873911541, 'Cicuta': 0.8410936345904149, 'Cinna': 0.45490026265994343, 'Circaea': 0.886319752603963, 'Cirsium': 0.6374262797045969, 'Cistothorus': 0.8055933161874613, 'Clarkia': 0.4727115763283961, 'Claytonia': 0.15472480725462281, 'Cleistes': 0.0, 'Clematis': 0.30560046322612444, 'Cleome': 0.4069744238207079, 'Clethrionomys': 0.8380475233874649, 'Climacium': 0.3830473435299739, 'Clinostomus': 0.3061745410785548, 'Clintonia': 0.5180596974719472, 'Coccyzus': 0.9317403037901905, 'Collinsia': 0.6055437715400853, 'Collinsonia': 0.0, 'Collomia': 0.3532662794193467, 'Coluber': 0.6226652186338707, 'Comandra': 0.5511656187853544, 'Commelina': 0.289233668396407, 'Contopus': 0.842962973748583, 'Convallaria': 0.3311309254286454, 'Corallorhiza': 0.5952225304867874, 'Corallorrhiza': 0.526875083961381, 'Cordylanthus': 0.859794736395982, 'Coreopsis': 0.44724048741189465, 'Cornus': 0.5987680024031082, 'Corvus': 0.4496995442853048, 'Corydalis': 0.3813031981681906, 'Corylus': 0.7518851515401629, 'Corynorhinus': 0.899179283394082, 'Cosmos': 0.5692528950862289, 'Cottus': 0.7398729578067167, 'Crataegus': 0.48767660450752304, 'Crepis': 0.4674839409600125, 'Crotalaria': 0.0962987103381481, 'Crotalus': 0.6044973946633728, 'Croton': 0.07275535768811588, 'Cryphaea': 1.0, 'Cryptantha': 0.4334940039057895, 'Cryptogramma': 0.26373510434839104, 'Ctenidium': 0.8560746679043028, 'Cuscuta': 0.546855954564649, 'Cyanocitta': 0.46108777458247907, 'Cygnus': 0.845426997680463, 'Cymopterus': 0.25955620579671945, 'Cynoglossum': 0.6049260504872835, 'Cynosurus': 0.3673596616110641, 'Cyperus': 0.29529424633937396, 'Cyprinella': 0.872733342008514, 'Cypripedium': 0.7912183784980309, 'Cyrto-hypnum': 0.9748152930773072, 'Cystopteris': 0.44074943405915473, 'Danthonia': 0.4942216250805927, 'Datura': 0.2547691147119208, 'Daucus': 0.7331673880052377, 'Delphinium': 0.4739449335055528, 'Dendragapus': 0.9098388110563519, 'Dendroica': 0.5635432368987441, 'Deschampsia': 0.6432521207818198, 'Descurainia': 0.45106534739517173, 'Desmodium': 0.7328789597043376, 'Desmognathus': 0.5950383396888889, 'Diadophis': 0.6657271118462358, 'Dianthus': 0.7647821962314573, 'Dicentra': 0.3552874140012532, 'Dichanthelium': 0.6487764929479874, 'Dichelostemma': 0.1699533778187816, 'Dicranella': 1.0, 'Dicranodontium': 1.0000000294832654, 'Dicranum': 0.8559128290662752, 'Didymodon': 0.9103241618238114, 'Diervilla': 0.9754866823132171, 'Digitaria': 0.647581252389457, 'Diodia': 0.3169207681182454, 'Dioscorea': 0.5874918598090092, 'Diphyscium': 0.8337950084434652, 'Ditrichum': 0.9063704407565624, 'Dodecatheon': 0.24231360097611412, 'Doellingeria': 0.4959393340543751, 'Draba': 0.4092940746821539, 'Dracocephalum': 0.36646696039875215, 'Drosera': 0.44797375770952974, 'Dryopteris': 0.47437146956109305, 'Echinochloa': 0.6142665937291142, 'Egretta': 0.6061782557839022, 'Elaeagnus': 0.19516407364064525, 'Elaphe': 0.6796125517366048, 'Eleocharis': 0.26118869648512744, 'Elephantopus': 0.6086875598901265, 'Elgaria': 0.8976103319904305, 'Elodea': 0.8920967770109506, 'Elymus': 0.30341846903809727, 'Empidonax': 0.5181990054916399, 'Ensatina': 0.10123817305446332, 'Entodon': 0.754398132150868, 'Epilobium': 0.44791059548034706, 'Epipactis': 0.7419865581522064, 'Equisetum': 0.5826331140572, 'Eragrostis': 0.31860736534542433, 'Erechtites': 0.3333333333333333, 'Ericameria': 0.12910529207130722, 'Erigeron': 0.42540527430465896, 'Eriogonum': 0.4769189510431117, 'Eriophorum': 0.6386865534571801, 'Eriophyllum': 0.5259593706114528, 'Erodium': 0.6492248849588922, 'Eryngium': 0.2841302758463597, 'Erysimum': 0.7010140886756483, 'Erythronium': 0.26083548435819265, 'Eschscholzia': 0.2751606630425214, 'Etheostoma': 0.7680283157202401, 'Eucephalus': 0.376402490993239, 'Eumeces': 0.3791589215118417, 'Euonymus': 0.39725583313824164, 'Eupatorium': 0.3187930247459634, 'Euphagus': 0.39404208991643125, 'Euphorbia': 0.35515748863096097, 'Eurhynchium': 1.0, 'Eurybia': 0.7213152506325518, 'Eurycea': 0.5692319349625251, 'Fabronia': 1.0, 'Fagopyrum': 0.47262024090959, 'Falco': 0.5202502237917324, 'Felis': 0.562156405803572, 'Festuca': 0.6258790388029937, 'Fimbristylis': 0.24392374573614353, 'Fissidens': 0.8540986466195724, 'Fontinalis': 0.6429448837037525, 'Forsythia': 0.6712779835765402, 'Fragaria': 0.7298991974333, 'Frasera': 0.5240006905617665, 'Fraxinus': 0.6764383983596851, 'Fritillaria': 0.6174993259301201, 'Funaria': 1.0, 'Gaillardia': 0.8315558100106736, 'Galactia': 0.31151513031482025, 'Galeopsis': 0.0, 'Galinsoga': 0.0, 'Galium': 0.3028120168088022, 'Gallinago': 0.09598231750576204, 'Gambusia': 0.6815513015996948, 'Gamochaeta': 0.855518373142118, 'Gaultheria': 0.8694468364530455, 'Gaura': 0.11685176801853137, 'Gavia': 0.6350014431831247, 'Gaylussacia': 0.4698036003974315, 'Gayophytum': 0.43432731961917603, 'Gentiana': 0.6806826291962302, 'Gentianella': 0.5625036455295075, 'Gentianopsis': 0.8321657545373057, 'Geothlypis': 0.014181202555750992, 'Geranium': 0.40492309415351446, 'Geum': 0.5624514341601319, 'Gilia': 0.3792091070729847, 'Glaucomys': 0.9353567417413434, 'Glyceria': 0.5276824243876702, 'Gnaphalium': 0.9008062170231504, 'Goodyera': 0.5402977969071736, 'Graptemys': 0.8885043036869625, 'Gratiola': 0.18956231512462846, 'Grimmia': 0.8502953583222315, 'Grindelia': 0.23128388326013435, 'Grus': 0.750129165428081, 'Hackelia': 0.4406822283425549, 'Haemorhous': 0.3367371351187411, 'Hedysarum': 0.40900299858805234, 'Helenium': 0.36641329480611323, 'Helianthella': 0.04576450917940659, 'Helianthemum': 0.248599475134843, 'Helianthus': 0.5822994787182267, 'Hemerocallis': 0.8633675471911741, 'Hepatica': 0.4597308884968238, 'Heracleum': 0.4885746675657313, 'Herniaria': 1.0, 'Hesperochiron': 0.0072900804977697525, 'Heterotheca': 0.3032244277399198, 'Heuchera': 0.27255925239488776, 'Hexastylis': 0.24923990038323926, 'Hibiscus': 0.0, 'Hieracium': 0.21995993979046652, 'Hordeum': 0.5526907703306053, 'Horkelia': 0.0, 'Houstonia': 0.41978262907608804, 'Hulsea': 0.15935268702971206, 'Huperzia': 0.4327130060912923, 'Hydrangea': 0.5433249897006615, 'Hydrocotyle': 0.8928406254614125, 'Hydrophyllum': 0.32223667118940014, 'Hygrohypnum': 0.7324668378117906, 'Hyla': 0.556404019871864, 'Hylotelephium': 0.21655514135743728, 'Hypericum': 0.6720647796116267, 'Hypnum': 0.8708776540047519, 'Hypochaeris': 0.8113490935514488, 'Ichthyomyzon': 0.6505407202950988, 'Ictalurus': 0.4783455065293266, 'Icterus': 0.47101314611839135, 'Ilex': 0.5510547632009458, 'Impatiens': 0.9569946729846298, 'Ionactis': 0.8824137596404402, 'Ipomoea': 0.5189104866244605, 'Ipomopsis': 0.6992790687904704, 'Iris': 0.5994826634429304, 'Isoetes': 0.3066793488542353, 'Isotria': 0.4974504904970693, 'Iva': 0.11253214123761962, 'Ivesia': 0.19616467202531804, 'Juglans': 0.5878813644875667, 'Junco': 0.5272889036841041, 'Juncus': 0.6156667829913637, 'Juniperus': 0.5068346432835537, 'Kalmia': 0.7633547945994765, 'Krigia': 0.5726451449108592, 'Kummerowia': 0.9576777328238529, 'Kyllinga': 0.2839123594583988, 'Lactuca': 0.6484772070836963, 'Lamium': 0.5275836181368487, 'Lampropeltis': 0.2965350167588037, 'Lanius': 0.5762190136660356, 'Larus': 0.4872148439808269, 'Lasiurus': 0.7613771691689964, 'Lasthenia': 0.6379916300413299, 'Lathyrus': 0.5258042748146924, 'Leersia': 0.29018656993084074, 'Lemna': 0.48779948142736174, 'Lepidium': 0.2729912438466717, 'Lepomis': 0.4710266825399324, 'Leptodontium': 0.2074952951866019, 'Lepus': 0.4796826336163577, 'Leskea': 1.0, 'Lespedeza': 0.6332273051101938, 'Leucobryum': 1.0, 'Leucodon': 0.6430688218212582, 'Leucosticte': 0.8936266777159618, 'Leucothoe': 0.41751875478621187, 'Lewisia': 0.5328758258336196, 'Liatris': 0.5327046654528595, 'Ligusticum': 0.6595454039308786, 'Ligustrum': 0.5731798507022008, 'Lilium': 0.4909328989283928, 'Limnanthes': 0.6400164987200965, 'Limnodromus': 0.9267686624423072, 'Limosa': 0.5346305285235857, 'Limosella': 0.11588553155170814, 'Linanthus': 0.25707536770452916, 'Linaria': 0.7724228372784977, 'Lindernia': 0.6898611966328142, 'Linnaea': 0.0, 'Linum': 0.542049983928536, 'Liparis': 0.5404773875031507, 'Lipocarpha': 0.5224961349856304, 'Listera': 0.3622392106596706, 'Lithophragma': 0.8487405839335357, 'Lithospermum': 0.8478113538601376, 'Lobelia': 0.4168999281669807, 'Lolium': 0.5579315489232789, 'Lomatium': 0.19256023607856732, 'Lonicera': 0.4640457521503579, 'Lophocolea': 0.0, 'Lotus': 0.3443823329202055, 'Loxia': 0.4542922004203046, 'Ludwigia': 0.40823282524654, 'Lupinus': 0.489891742493758, 'Luxilus': 0.5341648870662369, 'Luzula': 0.2892619691340023, 'Lycopodium': 0.5637452708658696, 'Lycopus': 0.37436364966852104, 'Lynx': 0.3070363027150922, 'Lysimachia': 0.49475553565330177, 'Madia': 0.32211285285626035, 'Magnolia': 0.6000703215149654, 'Mahonia': 0.4519444989055865, 'Maianthemum': 0.4314687025310091, 'Malus': 0.6164716374701511, 'Malva': 0.369591616848549, 'Marah': 0.19486850319256596, 'Marmota': 0.14435703246501524, 'Martes': 0.4403010605209501, 'Matelea': 0.4387632106242149, 'Matricaria': 0.757389858050228, 'Mazus': 1.0, 'Medicago': 0.43148291950582, 'Megascops': 0.9114127047414617, 'Melanerpes': 0.4636708242944462, 'Melanitta': 0.5517583421893294, 'Melanthium': 0.8778523134636512, 'Melica': 0.24177190315291494, 'Melilotus': 0.2903737265439134, 'Melospiza': 0.3663153337128417, 'Mentha': 0.5845913055832046, 'Mentzelia': 0.333836142150527, 'Mergus': 0.29363605398406334, 'Mertensia': 0.6218757447378327, 'Micropterus': 0.9102000969427088, 'Microtus': 0.5171102626050252, 'Mimosa': 0.9246551436455782, 'Mimulus': 0.2998661001412526, 'Minuartia': 0.2683152915494738, 'Mirabilis': 0.936335790364957, 'Mitella': 0.21951566239950218, 'Mnium': 0.46896539225574363, 'Monarda': 0.7599632414210072, 'Monardella': 0.5421575179868084, 'Monolepis': 0.6571810839467934, 'Monotropa': 0.7430327962119301, 'Montia': 0.3792472774943468, 'Morus': 0.6282779821199118, 'Moxostoma': 0.13490932117561455, 'Muhlenbergia': 0.444516342281426, 'Muscari': 0.2635241035453069, 'Mustela': 0.33501354940670003, 'Myiarchus': 0.3575888954984484, 'Myosotis': 0.6836121591623532, 'Myosurus': 0.0, 'Myotis': 0.5313671382812641, 'Myriophyllum': 0.4461735469996674, 'Najas': 0.3579054281523157, 'Narcissus': 0.23774758855146627, 'Navarretia': 0.43131506078037685, 'Neckera': 1.0, 'Nemacladus': 0.1929226954478785, 'Nemophila': 0.3744051908494851, 'Neotamias': 0.4736509533879545, 'Neotoma': 0.4308778753057858, 'Nerodia': 0.8353769473597925, 'Nicotiana': 0.6487551131400943, 'Nothocalais': 0.8138853680994165, 'Notropis': 0.6508304986787551, 'Noturus': 0.11735599417338198, 'Nuphar': 0.8027735485576791, 'Odocoileus': 0.6454355559022344, 'Oenothera': 0.23246084592015762, 'Oncophorus': 0.42655574437790256, 'Oncorhynchus': 0.7940112038605427, 'Ophioglossum': 0.9710753851931831, 'Oporornis': 0.7071510540200391, 'Opuntia': 0.0, 'Orbexilum': 0.5399160925768598, 'Oreothlypis': 0.4799406774594643, 'Orobanche': 0.4201453282917734, 'Orthocarpus': 0.9269495157038546, 'Orthotrichum': 0.785700472291304, 'Oryzomys': 1.0, 'Osmorhiza': 0.6976316401055314, 'Osmunda': 0.5411447149027203, 'Ostrya': 0.0, 'Otus': 0.5168636671868903, 'Ovis': 0.5939667124133652, 'Oxalis': 0.7537699659054541, 'Oxypolis': -0.009244434152293151, 'Oxytropis': 0.31212883033942074, 'Pachysandra': 0.0, 'Packera': 0.22432847738917905, 'Panax': 0.7516358754981667, 'Panicum': 0.6048067894001098, 'Papaver': 0.0, 'Parnassia': 0.8610944466860622, 'Paronychia': 0.5467088928374769, 'Parthenocissus': 0.6388755946664918, 'Paspalum': 0.320048275098891, 'Passerina': 0.4906122960604133, 'Passiflora': 0.8733459618122771, 'Pedicularis': 0.275034327588367, 'Pelecanus': 0.7280232147935056, 'Pellaea': 0.1342634669247136, 'Penstemon': 0.31346866017644165, 'Pentagramma': 0.3582697475581629, 'Percina': 0.44574355224793083, 'Perideridia': 0.9327405510933446, 'Peromyscus': 0.6214834386362411, 'Phacelia': 0.36622634685126565, 'Phaeoceros': 0.0, 'Phalaropus': 0.28337476556656843, 'Phegopteris': 0.825225961532073, 'Phenacobius': 0.7608546009796499, 'Pheucticus': 0.8425323611659541, 'Philadelphus': 0.32484763429380015, 'Philonotis': 0.7706222977511611, 'Phleum': 0.5723485878458131, 'Phlox': 0.5082605447215403, 'Phoradendron': 0.5368903640726296, 'Photinia': 0.5343136776542908, 'Phoxinus': 0.3933814495010921, 'Phrynosoma': 0.4475848059599925, 'Phyllodoce': 0.9066289196067695, 'Physalis': 0.741779037677681, 'Physaria': 0.3359073533262225, 'Physocarpus': 0.32170774722443035, 'Physostegia': 0.5584978906593275, 'Pica': 0.8680084380210632, 'Picea': 0.5059611409767043, 'Picoides': 0.44510312614821207, 'Pinus': 0.7449634728699057, 'Piperia': 0.2411248540773887, 'Pipilo': 0.5223232357382405, 'Piranga': 0.5389177531045268, 'Pituophis': 0.24071707706582593, 'Pityopsis': 0.0, 'Plagiobothrys': 0.21730115981090442, 'Plagiomnium': 0.7878350559821965, 'Plagiothecium': 0.9049143661496553, 'Plantago': 0.7137334853627362, 'Platanthera': 0.5122256279229936, 'Plegadis': 0.4295637321252307, 'Pleopeltis': 1.0, 'Plethodon': 0.58245144939541, 'Pluvialis': 0.8636159358093879, 'Poa': 0.5292100732931704, 'Podiceps': 0.5412319312431556, 'Poecile': 0.47735265157318435, 'Pogonatum': 0.7782375613184495, 'Pohlia': 0.7090095560441215, 'Polemonium': 0.4012790863581889, 'Polygala': 0.151694104268807, 'Polygonatum': 0.8208103143052785, 'Polygonum': 0.47506429889934054, 'Polymnia': 0.18343983490798538, 'Polypodium': 0.29183973272210323, 'Polypogon': 0.5168418165298105, 'Polystichum': 0.2283975205903167, 'Polytrichum': 0.8584518686241613, 'Populus': 0.4229822838332372, 'Porteranthus': 0.5397047954066836, 'Potamogeton': 0.33158551967916244, 'Potentilla': 0.4360017015405782, 'Prenanthes': 0.6631030922908712, 'Primula': 0.48585217263943636, 'Prosartes': 0.26287801556629503, 'Prunus': 0.6086733098687656, 'Pseudacris': 0.6718021655767281, 'Pseudognaphalium': 0.22036762021386047, 'Pseudostellaria': 0.07089087096743343, 'Pseudotaxiphyllum': 0.7861558180235283, 'Pseudotriton': 0.6969941261379932, 'Pseudotsuga': 0.9607549226817179, 'Psilocarphus': 0.16538837197122952, 'Pteridium': 0.6406176307408026, 'Pterigynandrum': 0.6358212066667052, 'Puccinellia': 0.608442766099202, 'Pycnanthemum': 0.2942444526395546, 'Pylaisiella': 0.5586885528488824, 'Pyrola': 0.6909616601918919, 'Pyrrocoma': 0.23738639208170342, 'Pyrus': 0.7368944763294953, 'Quercus': 0.7978438469871437, 'Quiscalus': 0.3257328323718499, 'Racomitrium': 1.0, 'Raillardella': 0.8368497045304615, 'Rallus': 0.7126237134829669, 'Rana': 0.6059779431917447, 'Ranunculus': 0.4930001927869068, 'Raphanus': 0.5313611411784129, 'Ratibida': 0.6862428248113623, 'Rattus': 0.6680348375245072, 'Regulus': 0.9076125459706802, 'Reithrodontomys': 0.9611107397716724, 'Rhamnus': 0.42303011319230954, 'Rhexia': 0.5998378941404585, 'Rhinichthys': 0.2922480109382862, 'Rhizomnium': 0.8877506147326774, 'Rhodobryum': 0.6268929343417663, 'Rhododendron': 0.5374040559488946, 'Rhus': 0.4776165439724728, 'Rhynchospora': 0.3094648298564695, 'Rhytidiadelphus': 0.8504882960796624, 'Ribes': 0.5587425256196238, 'Robinia': 0.4850846517886721, 'Rorippa': 0.1778497263503644, 'Rosa': 0.5395086289037547, 'Rubus': 0.4699768173234968, 'Rudbeckia': 0.50306764406356, 'Ruellia': 0.725471090045681, 'Rumex': 0.7402005720612165, 'Sabatia': 0.6272830410558152, 'Saccharum': 0.0, 'Sagina': 0.32616890538961657, 'Sagittaria': 0.5918270904101108, 'Salix': 0.557941093767102, 'Salsola': 0.7937853838821235, 'Salvelinus': 0.5605248899467907, 'Salvia': 0.3613481325143606, 'Sambucus': 0.6769798588070886, 'Sanicula': 0.5080038473035958, 'Saxifraga': 0.3891364038595039, 'Sayornis': 0.2845552703225675, 'Sceloporus': 0.7139664290263674, 'Schistidium': 0.6832462826254871, 'Schoenoplectus': 0.1611023209022508, 'Scirpus': 0.25143388530034755, 'Sciurus': 0.748129845014378, 'Scleria': 0.3063831416118645, 'Scrophularia': 0.22834307540934007, 'Scutellaria': 0.44248520477446135, 'Sedum': 0.5000008711422649, 'Seiurus': 0.3109941765171632, 'Selaginella': 0.4058563112304565, 'Selasphorus': 0.35567216900012494, 'Sematophyllum': 0.838615414893896, 'Senecio': 0.35511153594201506, 'Senna': 0.6701178964540819, 'Sericocarpus': 0.9023791805701096, 'Setaria': 0.5097668127000318, 'Setophaga': 0.44368677317799693, 'Sialia': 0.7508099331342573, 'Sida': 0.23935128687103904, 'Sidalcea': 0.09332580331454036, 'Silene': 0.3869190805453595, 'Silphium': 0.5408837180855648, 'Sisymbrium': 0.9081807376232871, 'Sisyrinchium': 0.8290848441148746, 'Sitta': 0.5270056794811543, 'Smilax': 0.5353430196750028, 'Solanum': 0.5046705124163153, 'Solidago': 0.534665001009465, 'Sonchus': 0.44567940802897493, 'Sorbus': 0.9015135848343758, 'Sorex': 0.5251662310277345, 'Sorghastrum': 0.9329584844989953, 'Sorghum': 0.466777050089221, 'Sparganium': 0.865891780781979, 'Spea': 0.608982238172596, 'Spermophilus': 0.6473028566564448, 'Sphagnum': 0.45506288733875616, 'Sphenopholis': 0.38456077144052303, 'Sphyrapicus': 0.4656343390992476, 'Spilogale': 0.8582946407423788, 'Spinus': 0.32527213852198683, 'Spiraea': 0.2308962859721538, 'Spiranthes': 0.771757312504728, 'Spizella': 0.45407430348505495, 'Sporobolus': 0.12699695615682796, 'Stachys': 0.4582149340858794, 'Staphylea': 0.18084709431863172, 'Stellaria': 0.6312055904532958, 'Stephanomeria': 0.3964890781725184, 'Sterna': 0.4241162044335887, 'Sternotherus': 0.6386920676465354, 'Stizostedion': 0.0, 'Storeria': 0.8335931301889415, 'Streptanthus': 0.31061392467860516, 'Streptopus': 0.30275814852533794, 'Strix': 0.7656106237968694, 'Strophostyles': 0.34321526001209895, 'Stuckenia': 0.3203750052227385, 'Sturnella': 0.9156969351904953, 'Subularia': 0.9723154092117616, 'Sylvilagus': 0.4828615374783769, 'Symphoricarpos': 0.45911955667032267, 'Symphyotrichum': 0.5742730578382631, 'Synaptomys': 0.6683475633437952, 'Tachycineta': 0.3778575079801668, 'Tamias': 0.38518267261999395, 'Tamiasciurus': 0.0, 'Tanacetum': 0.20078267589376647, 'Taraxacum': 0.5639845664825842, 'Taxiphyllum': 1.0, 'Tephrosia': 0.9055444541294543, 'Tetradymia': 0.8899894111193929, 'Teucrium': 0.28480774259572533, 'Thalictrum': 0.6277698750736462, 'Thamnophis': 0.5717690478117781, 'Thaspium': 0.5408677639898501, 'Thelypodium': 0.5634851762136915, 'Thelypteris': 0.4697126083154906, 'Thermopsis': 0.5392788994871636, 'Thlaspi': 0.6950268527478135, 'Thomomys': 0.5554038879012794, 'Thryomanes': 0.9715176112439778, 'Thuidium': 0.6133849871388185, 'Tiarella': 0.018505212088195562, 'Tilia': 0.7147745092650216, 'Torilis': 0.594637886885257, 'Torreyochloa': 0.754930570136844, 'Tortella': 0.7920325310787345, 'Tortula': 0.47827878077159797, 'Townsendia': 0.4917696150765395, 'Toxicodendron': 0.6719980822134487, 'Toxostoma': 0.5448746864211037, 'Trachemys': 0.7499424045096876, 'Tradescantia': 0.49054060752075374, 'Tragopogon': 0.7621361061656549, 'Trichomanes': 0.6266404504049586, 'Trichophorum': 0.0, 'Trichostema': 0.09695346187443589, 'Tridens': 0.6586785718972197, 'Trientalis': 0.24704983767971866, 'Trifolium': 0.5736121056220023, 'Triglochin': 0.8810970565830193, 'Trillium': 0.37315306946186716, 'Tringa': 0.38242169174685914, 'Triodanis': 0.715724064749811, 'Triosteum': 0.0, 'Trisetum': 0.31186696047360385, 'Triteleia': 0.12513865470993923, 'Troglodytes': 0.49869618357982953, 'Tsuga': 0.6112759033086124, 'Typha': 0.5553820654102511, 'Tyrannus': 0.5384904064913948, 'Ulmus': 0.8280443710016594, 'Ulota': 0.636263067757937, 'Ursus': 0.777325532842844, 'Urtica': 0.8644292862593197, 'Utricularia': 0.32940472726960124, 'Uvularia': 0.22969788929809962, 'Vaccinium': 0.4267389254140502, 'Valeriana': 0.5331005516307751, 'Valerianella': 0.464043952596876, 'Veratrum': 0.7131347356227952, 'Verbascum': 0.5306575823084982, 'Verbena': 0.5818944923355936, 'Verbesina': 0.12218292414482858, 'Vermivora': 0.563810504551776, 'Vernonia': 0.3092512638736885, 'Veronica': 0.6082401259543945, 'Viburnum': 0.4689852050556384, 'Vicia': 0.3902676309096233, 'Vinca': 0.3926324028676453, 'Viola': 0.5901498948340289, 'Vireo': 0.42909879494497266, 'Vitis': 0.6747144602471912, 'Vulpes': 0.8127501331706465, 'Vulpia': 0.6039973434216516, 'Wilsonia': 0.3869193935523168, 'Wisteria': 0.6837662429141961, 'Woodsia': 0.6081312650074058, 'Woodwardia': 0.7417776590636412, 'Wyethia': 0.581122444759877, 'Xerophyllum': 0.41957747152340336, 'Yucca': 0.17288212581655507, 'Zapus': 0.801288313898758, 'Zigadenus': 0.39814687471649146, 'Zizia': 0.5641177460374511, 'Zonotrichia': 0.6998476416521119, 'Zygodon': 1.0}\n"
     ]
    }
   ],
   "source": [
    "print(similarity_values)"
   ]
  },
  {
   "cell_type": "code",
   "execution_count": 104,
   "metadata": {},
   "outputs": [
    {
     "data": {
      "image/png": "[encoded data removed]",
      "text/plain": [
       "<Figure size 432x288 with 1 Axes>"
      ]
     },
     "metadata": {
      "needs_background": "light"
     },
     "output_type": "display_data"
    },
    {
     "data": {
      "text/plain": [
       "<Figure size 432x288 with 0 Axes>"
      ]
     },
     "metadata": {},
     "output_type": "display_data"
    }
   ],
   "source": [
    "plt.hist(similarity_values.values(), bins = 50)\n",
    "plt.title('Similarity in Common Names Among Genus')\n",
    "plt.xlabel('Proportion')\n",
    "plt.ylabel('Number of Genus')\n",
    "plt.show() \n",
    "plt.clf()"
   ]
  },
  {
   "cell_type": "code",
   "execution_count": 103,
   "metadata": {},
   "outputs": [],
   "source": [
    "species_info_numerous_species_per_genus['similarity_value'] = ''\n",
    "for ind, genus in enumerate(species_info_numerous_species_per_genus['genus_names']):\n",
    "    if genus in similarity_values.keys():\n",
    "        species_info_numerous_species_per_genus['similarity_value'][ind] = similarity_values[genus] \n",
    "    "
   ]
  },
  {
   "cell_type": "code",
   "execution_count": 118,
   "metadata": {
    "scrolled": true
   },
   "outputs": [
    {
     "name": "stdout",
     "output_type": "stream",
     "text": [
      "conservation_status\n",
      "Endangered            0.581400\n",
      "In Recovery           0.608304\n",
      "No Conservation       0.507727\n",
      "Species of Concern    0.520393\n",
      "Threatened            0.536358\n",
      "Name: similarity_value, dtype: float64\n",
      "nan\n",
      "          Multiple Comparison of Means - Tukey HSD, FWER=0.05          \n",
      "=======================================================================\n",
      "      group1             group2       meandiff p-adj lower upper reject\n",
      "-----------------------------------------------------------------------\n",
      "        Endangered        In Recovery   0.0269   nan   nan   nan  False\n",
      "        Endangered    No Conservation      nan   nan   nan   nan  False\n",
      "        Endangered Species of Concern   -0.061   nan   nan   nan  False\n",
      "        Endangered         Threatened   -0.045   nan   nan   nan  False\n",
      "       In Recovery    No Conservation      nan   nan   nan   nan  False\n",
      "       In Recovery Species of Concern  -0.0879   nan   nan   nan  False\n",
      "       In Recovery         Threatened  -0.0719   nan   nan   nan  False\n",
      "   No Conservation Species of Concern      nan   nan   nan   nan  False\n",
      "   No Conservation         Threatened      nan   nan   nan   nan  False\n",
      "Species of Concern         Threatened    0.016   nan   nan   nan  False\n",
      "-----------------------------------------------------------------------\n"
     ]
    }
   ],
   "source": [
    "species_info_numerous_species_per_genus['similarity_value'] = pd.to_numeric(species_info_numerous_species_per_genus['similarity_value'])\n",
    "print(species_info_numerous_species_per_genus.groupby('conservation_status').similarity_value.mean())\n",
    "\n",
    "no_conservation_numerous_species_per_genus = species_info_numerous_species_per_genus.loc[species_info_numerous_species_per_genus['conservation_status'] == 'No Conservation'].similarity_value\n",
    "threatened_numerous_species_per_genus = species_info_numerous_species_per_genus.loc[species_info_numerous_species_per_genus['conservation_status'] == 'Threatened'].similarity_value\n",
    "endangered_numerous_species_per_genus = species_info_numerous_species_per_genus.loc[species_info_numerous_species_per_genus['conservation_status'] == 'Endangered'].similarity_value\n",
    "in_recovery_numerous_species_per_genus = species_info_numerous_species_per_genus.loc[species_info_numerous_species_per_genus['conservation_status'] == 'In Recovery'].similarity_value\n",
    "species_of_concern_numerous_species_per_genus = species_info_numerous_species_per_genus.loc[species_info_numerous_species_per_genus['conservation_status'] == 'Species of Concern'].similarity_value\n",
    "\n",
    "fstat, pval = stats.f_oneway(no_conservation_numerous_species_per_genus, threatened_numerous_species_per_genus, endangered_numerous_species_per_genus, in_recovery_numerous_species_per_genus, species_of_concern_numerous_species_per_genus)\n",
    "print(pval)\n",
    "results = pairwise_tukeyhsd(species_info_numerous_species_per_genus['similarity_value'], species_info_numerous_species_per_genus['conservation_status'], alpha = 0.05)\n",
    "print(results)"
   ]
  }
 ],
 "metadata": {
  "kernelspec": {
   "display_name": "Python 3 (ipykernel)",
   "language": "python",
   "name": "python3"
  },
  "language_info": {
   "codemirror_mode": {
    "name": "ipython",
    "version": 3
   },
   "file_extension": ".py",
   "mimetype": "text/x-python",
   "name": "python",
   "nbconvert_exporter": "python",
   "pygments_lexer": "ipython3",
   "version": "3.9.12"
  }
 },
 "nbformat": 4,
 "nbformat_minor": 4
}
